{
 "cells": [
  {
   "cell_type": "code",
   "execution_count": 1,
   "id": "xjYY25-WvVfS",
   "metadata": {
    "colab": {
     "base_uri": "https://localhost:8080/"
    },
    "id": "xjYY25-WvVfS",
    "outputId": "74dde300-5ed8-4a96-e0d9-57e26eb6be40"
   },
   "outputs": [
    {
     "name": "stdout",
     "output_type": "stream",
     "text": [
      "Drive already mounted at /content/drive; to attempt to forcibly remount, call drive.mount(\"/content/drive\", force_remount=True).\n"
     ]
    }
   ],
   "source": [
    "from google.colab import drive\n",
    "drive.mount('/content/drive')"
   ]
  },
  {
   "cell_type": "code",
   "execution_count": 2,
   "id": "v3z_QswQaPwD",
   "metadata": {
    "colab": {
     "base_uri": "https://localhost:8080/"
    },
    "id": "v3z_QswQaPwD",
    "outputId": "0cf76438-d69b-4dcc-ff05-f538a71ee802"
   },
   "outputs": [
    {
     "name": "stdout",
     "output_type": "stream",
     "text": [
      "Looking in indexes: https://pypi.org/simple, https://us-python.pkg.dev/colab-wheels/public/simple/\n",
      "Requirement already satisfied: emoji in /usr/local/lib/python3.9/dist-packages (2.2.0)\n"
     ]
    }
   ],
   "source": [
    "!pip install emoji"
   ]
  },
  {
   "cell_type": "code",
   "execution_count": 3,
   "id": "57e7e2a1",
   "metadata": {
    "colab": {
     "base_uri": "https://localhost:8080/"
    },
    "id": "57e7e2a1",
    "outputId": "c68634d6-c2ff-49ac-f672-d759bd843899"
   },
   "outputs": [
    {
     "name": "stderr",
     "output_type": "stream",
     "text": [
      "[nltk_data] Downloading package stopwords to /root/nltk_data...\n",
      "[nltk_data]   Package stopwords is already up-to-date!\n",
      "[nltk_data] Downloading package punkt to /root/nltk_data...\n",
      "[nltk_data]   Package punkt is already up-to-date!\n"
     ]
    }
   ],
   "source": [
    "import random ,pickle , nltk , string , gc\n",
    "\n",
    "import pandas as pd\n",
    "import numpy as np\n",
    "from sklearn.naive_bayes import MultinomialNB, BernoulliNB\n",
    "from sklearn.linear_model import LogisticRegression, SGDClassifier , PassiveAggressiveClassifier , Perceptron\n",
    "import emoji , re\n",
    "\n",
    "\n",
    "from nltk.tokenize import word_tokenize\n",
    "from nltk.corpus import stopwords\n",
    "nltk.download('stopwords')\n",
    "nltk.download('punkt')\n",
    "stop_words = stopwords.words('english')\n",
    "\n",
    "\n",
    "\n",
    "\n",
    "from datetime import datetime\n",
    "from sklearn.metrics import accuracy_score , precision_score , f1_score\n",
    "from sklearn.feature_extraction.text import TfidfVectorizer,TfidfTransformer\n",
    "from sklearn.pipeline import Pipeline\n",
    "from sklearn.model_selection import train_test_split\n",
    "\n",
    "\n",
    "from operator import itemgetter\n",
    "from sklearn.ensemble import RandomForestClassifier\n",
    "from sklearn.ensemble import ExtraTreesClassifier\n",
    "from sklearn.ensemble import VotingClassifier\n",
    "from sklearn.ensemble import StackingClassifier\n",
    "\n",
    "\n",
    "\n",
    "import seaborn as sns \n",
    "import matplotlib.pyplot as plt\n",
    "from collections import Counter\n",
    "%matplotlib inline "
   ]
  },
  {
   "cell_type": "code",
   "execution_count": 4,
   "id": "6121b3a4",
   "metadata": {
    "id": "6121b3a4"
   },
   "outputs": [],
   "source": [
    "from nltk.stem import PorterStemmer\n",
    "ps = PorterStemmer()\n",
    "\n",
    "vector_tf = TfidfVectorizer(max_features = 4000)\n",
    "tfidf_transformer = TfidfTransformer()\n",
    "\n",
    "pipe = Pipeline([('count', vector_tf),\n",
    "    ('tfid', TfidfTransformer())])"
   ]
  },
  {
   "cell_type": "code",
   "execution_count": 10,
   "id": "1DOvVvzE-dkk",
   "metadata": {
    "id": "1DOvVvzE-dkk"
   },
   "outputs": [],
   "source": [
    "pac = PassiveAggressiveClassifier(max_iter=1000, random_state=0,tol=1e-3,validation_fraction=0.3,warm_start=True)\n",
    "pcp = Perceptron(tol=1e-3, random_state=0,warm_start=True,validation_fraction=0.3)\n",
    "sgdc = SGDClassifier(max_iter=1000, tol=1e-3,loss = 'log_loss',warm_start = True)\n",
    "lrc = LogisticRegression(solver='liblinear', penalty='l1',warm_start = True)\n",
    "mnb = MultinomialNB()\n",
    "bnb = BernoulliNB(force_alpha=True)\n",
    "\n",
    "\n",
    "\n"
   ]
  },
  {
   "cell_type": "code",
   "execution_count": 6,
   "id": "aD0-7EPkC8mG",
   "metadata": {
    "id": "aD0-7EPkC8mG"
   },
   "outputs": [],
   "source": [
    "\n",
    "clfs ={     \n",
    "    'MultinomialNB' : mnb,\n",
    "    'BernoulliNB' : bnb ,\n",
    "    'SGDClassifier' : sgdc ,\n",
    "    'PassiveAggressiveClassifier' : sgdc ,\n",
    "    'Perceptron' : pcp\n",
    "\n",
    "    }\n",
    "classifier_list = ['LRC' , 'Mnb','Bnb','SGDC','PAC','Perceptron']\n",
    "accuracy_scores = []\n",
    "precision_scores = []\n",
    "f1_scores = []"
   ]
  },
  {
   "cell_type": "code",
   "execution_count": 7,
   "id": "YPXbHMepVNGl",
   "metadata": {
    "id": "YPXbHMepVNGl"
   },
   "outputs": [],
   "source": [
    "def train_classifer(clf,X_train,y_train,X_test,y_test):\n",
    "  clf.partial_fit(X_train,y_train,classes = [0,1])\n",
    "  y_pred = clf.predict(X_test)\n",
    "  accuracy = accuracy_score(y_test,y_pred)\n",
    "  precision = precision_score(y_test,y_pred)\n",
    "  f1score = f1_score(y_test, y_pred,average='micro')\n",
    "  \n",
    "  return accuracy,precision,f1score\n",
    "    "
   ]
  },
  {
   "cell_type": "code",
   "execution_count": 8,
   "id": "33e505d1",
   "metadata": {
    "id": "33e505d1"
   },
   "outputs": [],
   "source": [
    "def basic_clean(x) :\n",
    "\n",
    "    \n",
    "  words  = emoji.demojize(x.lower())\n",
    "  #print(words)\n",
    "  \n",
    "  \n",
    "  words = re.sub('[^a-zA-Z0-9\\n\\.]', ' ', \"\".join(words))\n",
    "  \n",
    "  words = word_tokenize(words)\n",
    "  final = []\n",
    "  \n",
    "\n",
    "  \n",
    "  for word in words :\n",
    "      if (word not in stop_words) and (word not in string.punctuation) and (word != 'rt') and word.isalnum():\n",
    "        final.append(ps.stem(word))\n",
    "  words =  ' '.join(final[:])\n",
    "  #print(words)\n",
    "  return words"
   ]
  },
  {
   "cell_type": "code",
   "execution_count": 1,
   "id": "wU25T7MK5XPR",
   "metadata": {
    "id": "wU25T7MK5XPR"
   },
   "outputs": [
    {
     "ename": "NameError",
     "evalue": "name 'pickle' is not defined",
     "output_type": "error",
     "traceback": [
      "\u001b[1;31m---------------------------------------------------------------------------\u001b[0m",
      "\u001b[1;31mNameError\u001b[0m                                 Traceback (most recent call last)",
      "Cell \u001b[1;32mIn[1], line 1\u001b[0m\n\u001b[1;32m----> 1\u001b[0m pipe \u001b[38;5;241m=\u001b[39m \u001b[43mpickle\u001b[49m\u001b[38;5;241m.\u001b[39mload(\u001b[38;5;28mopen\u001b[39m(\u001b[38;5;124m'\u001b[39m\u001b[38;5;124mmodel/pipe.pkl\u001b[39m\u001b[38;5;124m'\u001b[39m, \u001b[38;5;124m'\u001b[39m\u001b[38;5;124mrb\u001b[39m\u001b[38;5;124m'\u001b[39m))\n",
      "\u001b[1;31mNameError\u001b[0m: name 'pickle' is not defined"
     ]
    }
   ],
   "source": [
    "pipe = pickle.load(open('/content/drive/MyDrive/nlp models/pipe.pkl', 'rb'))"
   ]
  },
  {
   "cell_type": "code",
   "execution_count": 14,
   "id": "bnmLd6oDyQEJ",
   "metadata": {
    "id": "bnmLd6oDyQEJ"
   },
   "outputs": [],
   "source": [
    "'''\n",
    "df = pd.read_csv('/content/drive/MyDrive/emotion.csv',encoding = 'latin-1',usecols  = ['text']).sample(frac=1)\n",
    "df['text'] = df['text'].apply(lambda x :  basic_clean(x))\n",
    "pipe.fit(df['text'])\n",
    "del df\n",
    "gc.collect()\n",
    "\n",
    "pickle.dump(pipe,open('/content/drive/MyDrive/nlp models/pipe.pkl','wb'))\n",
    "'''"
   ]
  },
  {
   "cell_type": "code",
   "execution_count": 10,
   "id": "83Xx55qp8TWg",
   "metadata": {
    "colab": {
     "base_uri": "https://localhost:8080/"
    },
    "id": "83Xx55qp8TWg",
    "outputId": "2fba4b28-76e0-48cc-a637-7bf1a22df672"
   },
   "outputs": [
    {
     "name": "stdout",
     "output_type": "stream",
     "text": [
      "------------------------------------------------------------------- Epoch 0 ------------------------------------------------------------- \n",
      "Shape of training data  : (64000, 2) \n",
      "\n",
      "LogisticRegression | Accuracy : 0.75 | Precision : 0.74 | F1 Score : 0.75 | Time Taken : 0:00:01.523682\n",
      "\n",
      "\n",
      "MultinomialNB | Accuracy : 0.75 | Precision : 0.75 | F1 Score : 0.75 | Time Taken : 0:00:00.350776\n",
      "\n",
      "\n",
      "BernoulliNB | Accuracy : 0.76 | Precision : 0.75 | F1 Score : 0.76 | Time Taken : 0:00:01.081341\n",
      "\n",
      "\n",
      "SGDClassifier | Accuracy : 0.77 | Precision : 0.76 | F1 Score : 0.77 | Time Taken : 0:00:00.176301\n",
      "\n",
      "\n",
      "PassiveAggressiveClassifier | Accuracy : 0.77 | Precision : 0.76 | F1 Score : 0.77 | Time Taken : 0:00:00.185332\n",
      "\n",
      "\n",
      "Perceptron | Accuracy : 0.69 | Precision : 0.63 | F1 Score : 0.69 | Time Taken : 0:00:00.195621\n",
      "\n",
      "\n",
      "\n",
      "\n",
      "\n"
     ]
    }
   ],
   "source": [
    "for i in range(30):\n",
    "  df = pd.read_csv('/content/drive/MyDrive/emotion.csv',encoding = 'latin-1',usecols  = ['Target','text']).sample(frac=0.04)\n",
    "  # 0 is Negative , 4/1 is positive\n",
    "  \n",
    "  df['Target'] = df['Target'].replace(4,1)\n",
    "  df['text'] = df['text'].apply(lambda x :  basic_clean(x))\n",
    "  #df.drop(columns = ['text'],inplace=True)\n",
    "  gc.collect()\n",
    "\n",
    "  print('------------------------------------------------------------------- Epoch {} ------------------------------------------------------------- '.format(i))\n",
    "  print('Shape of training data  : {} \\n'.format(df.shape))\n",
    "  \n",
    "  #print(corpus_vector[0:1])\n",
    "  #corpus_vector = tfidf.fit_transform(X).toarray()\n",
    "  X_train,X_test,y_train,y_test = train_test_split(pipe.transform(df['text']).toarray(),df.Target,test_size=0.3,random_state=101)\n",
    "\n",
    "  del df\n",
    "  gc.collect()\n",
    "\n",
    "  accuracy_scores = []\n",
    "  precision_scores = []\n",
    "  f1_scores = []\n",
    "\n",
    "  \n",
    "\n",
    "\n",
    "  #LogisticRegression\n",
    "\n",
    "\n",
    "  start_time = datetime.now() \n",
    "  lrc.fit(X_train,y_train)\n",
    "  y_pred = lrc.predict(X_test)\n",
    "  current_accuracy = accuracy_score(y_test,y_pred)\n",
    "  current_precision = precision_score(y_test,y_pred)\n",
    "  current_f1_score = f1_score(y_test, y_pred,average='micro')\n",
    "  end_time = datetime.now() \n",
    "  \n",
    "  print(\"LogisticRegression | Accuracy : {:.2f} | Precision : {:.2f} | F1 Score : {:.2f} | Time Taken : {}\\n\\n\".format(current_accuracy,current_precision,current_f1_score,end_time - start_time))   \n",
    "  accuracy_scores.append(current_accuracy)\n",
    "  precision_scores.append(current_precision)\n",
    "  f1_scores.append(current_f1_score)\n",
    "\n",
    "  for name , clf in clfs.items():\n",
    "\n",
    "    start_time = datetime.now() \n",
    "    current_accuracy , current_precision , current_f1_score = train_classifer(clf,X_train,y_train,X_test,y_test)\n",
    "    end_time = datetime.now()\n",
    "    \n",
    "    print(\"{} | Accuracy : {:.2f} | Precision : {:.2f} | F1 Score : {:.2f} | Time Taken : {}\\n\\n\".format(name ,current_accuracy,current_precision,current_f1_score,end_time - start_time))   \n",
    "  \n",
    "    \n",
    "    accuracy_scores.append(current_accuracy)\n",
    "    precision_scores.append(current_precision)\n",
    "    f1_scores.append(current_f1_score)  \n",
    "\n",
    "  \n",
    "  \n",
    "\n",
    "  print('\\n\\n')\n",
    "\n",
    "  del X_train,X_test,y_train,y_test\n",
    "  gc.collect()\n",
    "\n",
    "  \n",
    "\n",
    "\n",
    "\n"
   ]
  },
  {
   "cell_type": "code",
   "execution_count": null,
   "id": "V1J43NgXIPzd",
   "metadata": {
    "id": "V1J43NgXIPzd"
   },
   "outputs": [],
   "source": [
    "'''\n",
    "\n",
    "Dump\n",
    "pickle.dump(sgdc,open('/content/drive/MyDrive/nlp models/sgdc.pkl','wb'))\n",
    "pickle.dump(bnb,open('/content/drive/MyDrive/nlp models/bnb.pkl','wb'))\n",
    "pickle.dump(pac,open('/content/drive/MyDrive/nlp models/pac.pkl','wb'))\n",
    "pickle.dump(pcp,open('/content/drive/MyDrive/nlp models/pcp.pkl','wb'))\n",
    "pickle.dump(mnb,open('/content/drive/MyDrive/nlp models/mnb.pkl','wb'))\n",
    "pickle.dump(lrc,open('/content/drive/MyDrive/nlp models/lrc.pkl','wb'))\n",
    "pickle.dump(mnb,open('/content/drive/MyDrive/nlp models/mnb.pkl','wb'))\n",
    "\n",
    "'''"
   ]
  },
  {
   "cell_type": "code",
   "execution_count": 11,
   "id": "U0ZYhwxbvSmH",
   "metadata": {
    "colab": {
     "base_uri": "https://localhost:8080/",
     "height": 282
    },
    "id": "U0ZYhwxbvSmH",
    "outputId": "5b80f089-4b29-4830-df6d-49334539f260"
   },
   "outputs": [
    {
     "data": {
      "text/plain": [
       "10"
      ]
     },
     "execution_count": 11,
     "metadata": {},
     "output_type": "execute_result"
    },
    {
     "data": {
      "image/png": "[encoded data removed]",
      "text/plain": [
       "<Figure size 432x288 with 1 Axes>"
      ]
     },
     "metadata": {},
     "output_type": "display_data"
    }
   ],
   "source": [
    "df = pd.read_csv('/content/drive/MyDrive/emotion.csv',encoding = 'latin-1',usecols  = ['Target','text']).sample(frac=0.06)\n",
    "df['Target'] = df['Target'].replace(4,1)\n",
    "df['text'] = df['text'].apply(lambda x :  basic_clean(x))\n",
    "#df.drop(columns = ['text'],inplace=True)\n",
    "\n",
    "gc.collect()\n",
    "\n",
    "\n",
    "palette_color = sns.color_palette('bright')\n",
    "plt.pie(Counter(df.Target).values(), labels=['Negative','Positive'], colors=palette_color, autopct='%.0f%%')\n",
    "plt.title('Distribution of Emotion')\n",
    "\n",
    "y = df.Target\n",
    "X = pipe.transform(df['text']).toarray()\n",
    "#print(corpus_vector[0:1])\n",
    "#corpus_vector = tfidf.fit_transform(X).toarray()\n",
    "X_train,X_test,y_train,y_test = train_test_split(X,y,test_size=0.3,random_state=101)\n",
    "\n",
    "del df , X , y\n",
    "\n",
    "gc.collect()"
   ]
  },
  {
   "cell_type": "code",
   "execution_count": 5,
   "id": "aNetWUk20WnZ",
   "metadata": {
    "id": "aNetWUk20WnZ"
   },
   "outputs": [],
   "source": [
    "'''\n",
    "sgdc = pickle.load(open('/content/drive/MyDrive/nlp models/sgdc.pkl', 'rb'))\n",
    "bnb = pickle.load(open('/content/drive/MyDrive/nlp models/bnb.pkl', 'rb'))\n",
    "mnb = pickle.load(open('/content/drive/MyDrive/nlp models/mnb.pkl', 'rb'))\n",
    "pac = pickle.load(open('/content/drive/MyDrive/nlp models/pac.pkl', 'rb'))\n",
    "pcp = pickle.load(open('/content/drive/MyDrive/nlp models/pcp.pkl', 'rb'))\n",
    "lrc = pickle.load(open('/content/drive/MyDrive/nlp models/lrc.pkl', 'rb'))\n",
    "\n",
    "\n",
    "'''\n"
   ]
  },
  {
   "cell_type": "code",
   "execution_count": null,
   "id": "cITjJGjvHEGM",
   "metadata": {
    "id": "cITjJGjvHEGM"
   },
   "outputs": [],
   "source": [
    "'''\n",
    "estimators = [('SGDC',sgdc),('BNB',bnb),('LRC',lrc),('MNB',mnb)]\n",
    "voting = VotingClassifier(estimators,voting = 'soft')\n",
    "voting.fit(X_train,y_train)\n",
    "'''\n",
    "# or load pickled classifier\n",
    "voting = pickle.load(open('/content/drive/MyDrive/nlp models/voting.pkl', 'rb'))"
   ]
  },
  {
   "cell_type": "code",
   "execution_count": 12,
   "id": "_-yYfDRu4w-0",
   "metadata": {
    "colab": {
     "base_uri": "https://localhost:8080/"
    },
    "id": "_-yYfDRu4w-0",
    "outputId": "87226cf4-092e-4e4c-d2ae-2ef57f38c4b1"
   },
   "outputs": [
    {
     "name": "stdout",
     "output_type": "stream",
     "text": [
      "VotingClassifier | Accuracy : 0.75 | Precision : 0.74 | F1 Score : 0.76\n",
      "\n",
      "\n"
     ]
    },
    {
     "data": {
      "text/plain": [
       "2426"
      ]
     },
     "execution_count": 12,
     "metadata": {},
     "output_type": "execute_result"
    }
   ],
   "source": [
    "\n",
    "y_pred1 = voting.predict(X_test)\n",
    "print(\"VotingClassifier | Accuracy : {:.2f} | Precision : {:.2f} | F1 Score : {:.2f}\\n\\n\".format(accuracy_score(y_test,y_pred1),precision_score(y_test,y_pred1),f1_score(y_test,y_pred1)))   \n",
    "  \n",
    "classifier_list.append('Voting')\n",
    "accuracy_scores.append(accuracy_score(y_test,y_pred1))\n",
    "precision_scores.append(precision_score(y_test,y_pred1))\n",
    "f1_scores.append(f1_score(y_test,y_pred1))\n",
    "del y_pred1\n",
    "gc.collect()"
   ]
  },
  {
   "cell_type": "code",
   "execution_count": 13,
   "id": "rIeil3r8HHQZ",
   "metadata": {
    "id": "rIeil3r8HHQZ"
   },
   "outputs": [],
   "source": [
    "pickle.dump(voting,open('/content/drive/MyDrive/nlp models/rfc.pkl','wb'))"
   ]
  },
  {
   "cell_type": "code",
   "execution_count": null,
   "id": "ihmGRzfPH3eI",
   "metadata": {
    "id": "ihmGRzfPH3eI"
   },
   "outputs": [],
   "source": [
    "'''\n",
    "estimators = [('SGDC',sgdc),('MNB',mnb),('PAC',pac)]\n",
    "final_estimators = lrc\n",
    "stacking = StackingClassifier(estimators = estimators , final_estimator = final_estimators)\n",
    "stacking.fit(X_train,y_train)\n",
    "'''\n",
    "#or load existing pickled classifier\n",
    "stacking = pickle.load(open('/content/drive/MyDrive/nlp models/stacking.pkl', 'rb'))"
   ]
  },
  {
   "cell_type": "code",
   "execution_count": 15,
   "id": "e0CDRY_jAruD",
   "metadata": {
    "colab": {
     "base_uri": "https://localhost:8080/"
    },
    "id": "e0CDRY_jAruD",
    "outputId": "5081d601-848d-4b97-96c1-739b2a2ba61a"
   },
   "outputs": [
    {
     "name": "stdout",
     "output_type": "stream",
     "text": [
      "StackingClassifier | Accuracy : 0.75 | Precision : 0.74 | F1 Score : 0.76\n",
      "\n",
      "\n"
     ]
    },
    {
     "data": {
      "text/plain": [
       "48"
      ]
     },
     "execution_count": 15,
     "metadata": {},
     "output_type": "execute_result"
    }
   ],
   "source": [
    "\n",
    "y_pred1 = stacking.predict(X_test)\n",
    "print(\"StackingClassifier | Accuracy : {:.2f} | Precision : {:.2f} | F1 Score : {:.2f}\\n\\n\".format(accuracy_score(y_test,y_pred1),precision_score(y_test,y_pred1),f1_score(y_test,y_pred1))  )\n",
    "  \n",
    "classifier_list.append('Stacking')\n",
    "accuracy_scores.append(accuracy_score(y_test,y_pred1))\n",
    "precision_scores.append(precision_score(y_test,y_pred1))\n",
    "f1_scores.append(f1_score(y_test,y_pred1))\n",
    "del y_pred1\n",
    "gc.collect()\n"
   ]
  },
  {
   "cell_type": "code",
   "execution_count": 16,
   "id": "7sRxeDarRSZd",
   "metadata": {
    "id": "7sRxeDarRSZd"
   },
   "outputs": [],
   "source": [
    "pickle.dump(stacking,open('/content/drive/MyDrive/nlp models/stacking.pkl','wb'))"
   ]
  },
  {
   "cell_type": "code",
   "execution_count": 17,
   "id": "UXKOem25ArkT",
   "metadata": {
    "id": "UXKOem25ArkT"
   },
   "outputs": [],
   "source": [
    "X = basic_clean('really happy that you were victorious')\n",
    "\n",
    "corpus_vector = pipe.transform([X]).toarray()"
   ]
  },
  {
   "cell_type": "code",
   "execution_count": 18,
   "id": "Q563iLayFb-o",
   "metadata": {
    "colab": {
     "base_uri": "https://localhost:8080/"
    },
    "id": "Q563iLayFb-o",
    "outputId": "ad28a75d-5827-4a84-faca-7c260afd315f"
   },
   "outputs": [
    {
     "data": {
      "text/plain": [
       "array([1])"
      ]
     },
     "execution_count": 18,
     "metadata": {},
     "output_type": "execute_result"
    }
   ],
   "source": [
    "sgdc.predict(corpus_vector)"
   ]
  },
  {
   "cell_type": "code",
   "execution_count": 19,
   "id": "YkYxxoQZjGG0",
   "metadata": {
    "colab": {
     "base_uri": "https://localhost:8080/"
    },
    "id": "YkYxxoQZjGG0",
    "outputId": "250b6656-1ca1-4b3c-e2a5-a999216d9fd3"
   },
   "outputs": [
    {
     "data": {
      "text/plain": [
       "array([1])"
      ]
     },
     "execution_count": 19,
     "metadata": {},
     "output_type": "execute_result"
    }
   ],
   "source": [
    "lrc.predict(corpus_vector)"
   ]
  },
  {
   "cell_type": "code",
   "execution_count": null,
   "id": "BKxvFKUbJUKP",
   "metadata": {
    "id": "BKxvFKUbJUKP"
   },
   "outputs": [],
   "source": [
    "'''\n",
    "etc = pickle.load(open('/content/drive/MyDrive/nlp models/etc.pkl', 'rb'))\n",
    "rfc = pickle.load(open('/content/drive/MyDrive/nlp models/rfc.pkl', 'rb'))\n",
    "'''"
   ]
  },
  {
   "cell_type": "code",
   "execution_count": 53,
   "id": "lPnlKz5xMOZf",
   "metadata": {
    "id": "lPnlKz5xMOZf"
   },
   "outputs": [],
   "source": [
    "def train_classifer_incremental(clf,X_train,y_train,X_test,y_test):\n",
    "  clf.n_estimators = clf.n_estimators + 5\n",
    "  clf.fit(X_train,y_train)\n",
    "  y_pred = clf.predict(X_test)\n",
    "  accuracy = accuracy_score(y_test,y_pred)\n",
    "  precision = precision_score(y_test,y_pred)\n",
    "  f1score = f1_score(y_test, y_pred,average='micro')\n",
    "  \n",
    "  return accuracy,precision,f1score\n",
    "\n",
    "rfc = RandomForestClassifier(n_estimators=50,warm_start =True ,criterion = 'log_loss', n_jobs = -1 , random_state=100)\n",
    "etc = ExtraTreesClassifier(n_estimators=50,warm_start =True ,criterion = 'log_loss',  n_jobs = -1 , random_state=100)\n"
   ]
  },
  {
   "cell_type": "code",
   "execution_count": 72,
   "id": "zCPaWrmkDhJM",
   "metadata": {
    "id": "zCPaWrmkDhJM"
   },
   "outputs": [],
   "source": [
    "clfs ={     \n",
    "    'RFC' : rfc,\n",
    "    'ETC' : etc ,\n",
    "    }\n",
    "    "
   ]
  },
  {
   "cell_type": "code",
   "execution_count": 54,
   "id": "aWzNGT3hMS_b",
   "metadata": {
    "colab": {
     "base_uri": "https://localhost:8080/"
    },
    "id": "aWzNGT3hMS_b",
    "outputId": "d89b4dfa-97b1-4010-a8a9-ec4e62b3563d"
   },
   "outputs": [
    {
     "name": "stdout",
     "output_type": "stream",
     "text": [
      "------------------------------------------------------------------- Epoch 0 ------------------------------------------------------------- \n",
      "Shape of training data  : (64000, 2) \n",
      "\n",
      "RFC | Accuracy : 0.73 | Precision : 0.73 | F1 Score : 0.73 | Time Taken : 0:07:56.488119\n",
      "\n",
      "\n",
      "ETC | Accuracy : 0.74 | Precision : 0.74 | F1 Score : 0.74 | Time Taken : 0:20:07.831770\n",
      "\n",
      "\n",
      "\n",
      "\n",
      "\n",
      "------------------------------------------------------------------- Epoch 1 ------------------------------------------------------------- \n",
      "Shape of training data  : (64000, 2) \n",
      "\n",
      "RFC | Accuracy : 0.74 | Precision : 0.74 | F1 Score : 0.74 | Time Taken : 0:00:47.983350\n",
      "\n",
      "\n",
      "ETC | Accuracy : 0.75 | Precision : 0.75 | F1 Score : 0.75 | Time Taken : 0:01:57.515252\n",
      "\n",
      "\n",
      "\n",
      "\n",
      "\n",
      "------------------------------------------------------------------- Epoch 2 ------------------------------------------------------------- \n",
      "Shape of training data  : (64000, 2) \n",
      "\n",
      "RFC | Accuracy : 0.75 | Precision : 0.74 | F1 Score : 0.75 | Time Taken : 0:00:47.957875\n",
      "\n",
      "\n",
      "ETC | Accuracy : 0.75 | Precision : 0.75 | F1 Score : 0.75 | Time Taken : 0:02:00.575818\n",
      "\n",
      "\n",
      "\n",
      "\n",
      "\n",
      "------------------------------------------------------------------- Epoch 3 ------------------------------------------------------------- \n",
      "Shape of training data  : (64000, 2) \n",
      "\n",
      "RFC | Accuracy : 0.75 | Precision : 0.75 | F1 Score : 0.75 | Time Taken : 0:00:44.046639\n",
      "\n",
      "\n",
      "ETC | Accuracy : 0.76 | Precision : 0.76 | F1 Score : 0.76 | Time Taken : 0:01:46.958599\n",
      "\n",
      "\n",
      "\n",
      "\n",
      "\n",
      "------------------------------------------------------------------- Epoch 4 ------------------------------------------------------------- \n",
      "Shape of training data  : (64000, 2) \n",
      "\n",
      "RFC | Accuracy : 0.75 | Precision : 0.75 | F1 Score : 0.75 | Time Taken : 0:00:45.939414\n",
      "\n",
      "\n",
      "ETC | Accuracy : 0.76 | Precision : 0.76 | F1 Score : 0.76 | Time Taken : 0:01:51.788252\n",
      "\n",
      "\n",
      "\n",
      "\n",
      "\n",
      "------------------------------------------------------------------- Epoch 5 ------------------------------------------------------------- \n",
      "Shape of training data  : (64000, 2) \n",
      "\n",
      "RFC | Accuracy : 0.75 | Precision : 0.75 | F1 Score : 0.75 | Time Taken : 0:00:49.042432\n",
      "\n",
      "\n",
      "ETC | Accuracy : 0.76 | Precision : 0.77 | F1 Score : 0.76 | Time Taken : 0:01:54.218347\n",
      "\n",
      "\n",
      "\n",
      "\n",
      "\n",
      "------------------------------------------------------------------- Epoch 6 ------------------------------------------------------------- \n",
      "Shape of training data  : (64000, 2) \n",
      "\n",
      "RFC | Accuracy : 0.75 | Precision : 0.75 | F1 Score : 0.75 | Time Taken : 0:00:45.808329\n",
      "\n",
      "\n",
      "ETC | Accuracy : 0.76 | Precision : 0.77 | F1 Score : 0.76 | Time Taken : 0:02:00.391751\n",
      "\n",
      "\n",
      "\n",
      "\n",
      "\n",
      "------------------------------------------------------------------- Epoch 7 ------------------------------------------------------------- \n",
      "Shape of training data  : (64000, 2) \n",
      "\n",
      "RFC | Accuracy : 0.75 | Precision : 0.75 | F1 Score : 0.75 | Time Taken : 0:00:49.253604\n",
      "\n",
      "\n",
      "ETC | Accuracy : 0.76 | Precision : 0.76 | F1 Score : 0.76 | Time Taken : 0:01:56.379055\n",
      "\n",
      "\n",
      "\n",
      "\n",
      "\n",
      "------------------------------------------------------------------- Epoch 8 ------------------------------------------------------------- \n",
      "Shape of training data  : (64000, 2) \n",
      "\n",
      "RFC | Accuracy : 0.75 | Precision : 0.75 | F1 Score : 0.75 | Time Taken : 0:00:49.110512\n",
      "\n",
      "\n",
      "ETC | Accuracy : 0.76 | Precision : 0.76 | F1 Score : 0.76 | Time Taken : 0:01:54.545280\n",
      "\n",
      "\n",
      "\n",
      "\n",
      "\n",
      "------------------------------------------------------------------- Epoch 9 ------------------------------------------------------------- \n",
      "Shape of training data  : (64000, 2) \n",
      "\n",
      "RFC | Accuracy : 0.76 | Precision : 0.75 | F1 Score : 0.76 | Time Taken : 0:00:49.234351\n",
      "\n",
      "\n",
      "ETC | Accuracy : 0.77 | Precision : 0.76 | F1 Score : 0.77 | Time Taken : 0:01:54.387400\n",
      "\n",
      "\n",
      "\n",
      "\n",
      "\n",
      "------------------------------------------------------------------- Epoch 10 ------------------------------------------------------------- \n",
      "Shape of training data  : (64000, 2) \n",
      "\n",
      "RFC | Accuracy : 0.76 | Precision : 0.76 | F1 Score : 0.76 | Time Taken : 0:00:52.902158\n",
      "\n",
      "\n",
      "ETC | Accuracy : 0.77 | Precision : 0.77 | F1 Score : 0.77 | Time Taken : 0:01:54.596839\n",
      "\n",
      "\n",
      "\n",
      "\n",
      "\n",
      "------------------------------------------------------------------- Epoch 11 ------------------------------------------------------------- \n",
      "Shape of training data  : (64000, 2) \n",
      "\n",
      "RFC | Accuracy : 0.76 | Precision : 0.76 | F1 Score : 0.76 | Time Taken : 0:00:51.450690\n",
      "\n",
      "\n",
      "ETC | Accuracy : 0.77 | Precision : 0.77 | F1 Score : 0.77 | Time Taken : 0:02:03.722841\n",
      "\n",
      "\n",
      "\n",
      "\n",
      "\n",
      "------------------------------------------------------------------- Epoch 12 ------------------------------------------------------------- \n",
      "Shape of training data  : (64000, 2) \n",
      "\n",
      "RFC | Accuracy : 0.76 | Precision : 0.75 | F1 Score : 0.76 | Time Taken : 0:00:49.675230\n",
      "\n",
      "\n",
      "ETC | Accuracy : 0.77 | Precision : 0.77 | F1 Score : 0.77 | Time Taken : 0:01:56.223167\n",
      "\n",
      "\n",
      "\n",
      "\n",
      "\n",
      "------------------------------------------------------------------- Epoch 13 ------------------------------------------------------------- \n",
      "Shape of training data  : (64000, 2) \n",
      "\n",
      "RFC | Accuracy : 0.76 | Precision : 0.75 | F1 Score : 0.76 | Time Taken : 0:00:49.914749\n",
      "\n",
      "\n",
      "ETC | Accuracy : 0.77 | Precision : 0.77 | F1 Score : 0.77 | Time Taken : 0:02:00.979578\n",
      "\n",
      "\n",
      "\n",
      "\n",
      "\n",
      "------------------------------------------------------------------- Epoch 14 ------------------------------------------------------------- \n",
      "Shape of training data  : (64000, 2) \n",
      "\n",
      "RFC | Accuracy : 0.75 | Precision : 0.74 | F1 Score : 0.75 | Time Taken : 0:00:49.184536\n",
      "\n",
      "\n",
      "ETC | Accuracy : 0.76 | Precision : 0.76 | F1 Score : 0.76 | Time Taken : 0:01:59.892270\n",
      "\n",
      "\n",
      "\n",
      "\n",
      "\n",
      "------------------------------------------------------------------- Epoch 15 ------------------------------------------------------------- \n",
      "Shape of training data  : (64000, 2) \n",
      "\n",
      "RFC | Accuracy : 0.76 | Precision : 0.75 | F1 Score : 0.76 | Time Taken : 0:00:48.322315\n",
      "\n",
      "\n",
      "ETC | Accuracy : 0.77 | Precision : 0.77 | F1 Score : 0.77 | Time Taken : 0:02:09.982433\n",
      "\n",
      "\n",
      "\n",
      "\n",
      "\n",
      "------------------------------------------------------------------- Epoch 16 ------------------------------------------------------------- \n",
      "Shape of training data  : (64000, 2) \n",
      "\n",
      "RFC | Accuracy : 0.76 | Precision : 0.75 | F1 Score : 0.76 | Time Taken : 0:00:46.338315\n",
      "\n",
      "\n",
      "ETC | Accuracy : 0.77 | Precision : 0.76 | F1 Score : 0.77 | Time Taken : 0:01:56.460062\n",
      "\n",
      "\n",
      "\n",
      "\n",
      "\n",
      "------------------------------------------------------------------- Epoch 17 ------------------------------------------------------------- \n",
      "Shape of training data  : (64000, 2) \n",
      "\n",
      "RFC | Accuracy : 0.76 | Precision : 0.75 | F1 Score : 0.76 | Time Taken : 0:00:48.931036\n",
      "\n",
      "\n",
      "ETC | Accuracy : 0.77 | Precision : 0.77 | F1 Score : 0.77 | Time Taken : 0:02:02.387272\n",
      "\n",
      "\n",
      "\n",
      "\n",
      "\n",
      "------------------------------------------------------------------- Epoch 18 ------------------------------------------------------------- \n",
      "Shape of training data  : (64000, 2) \n",
      "\n",
      "RFC | Accuracy : 0.76 | Precision : 0.75 | F1 Score : 0.76 | Time Taken : 0:00:50.530552\n",
      "\n",
      "\n",
      "ETC | Accuracy : 0.78 | Precision : 0.78 | F1 Score : 0.78 | Time Taken : 0:02:04.211228\n",
      "\n",
      "\n",
      "\n",
      "\n",
      "\n",
      "------------------------------------------------------------------- Epoch 19 ------------------------------------------------------------- \n",
      "Shape of training data  : (64000, 2) \n",
      "\n",
      "RFC | Accuracy : 0.76 | Precision : 0.75 | F1 Score : 0.76 | Time Taken : 0:00:48.457270\n",
      "\n",
      "\n",
      "ETC | Accuracy : 0.77 | Precision : 0.76 | F1 Score : 0.77 | Time Taken : 0:02:01.782676\n",
      "\n",
      "\n",
      "\n",
      "\n",
      "\n",
      "------------------------------------------------------------------- Epoch 20 ------------------------------------------------------------- \n",
      "Shape of training data  : (64000, 2) \n",
      "\n",
      "RFC | Accuracy : 0.76 | Precision : 0.75 | F1 Score : 0.76 | Time Taken : 0:00:52.472386\n",
      "\n",
      "\n",
      "ETC | Accuracy : 0.78 | Precision : 0.77 | F1 Score : 0.78 | Time Taken : 0:02:01.921423\n",
      "\n",
      "\n",
      "\n",
      "\n",
      "\n",
      "------------------------------------------------------------------- Epoch 21 ------------------------------------------------------------- \n",
      "Shape of training data  : (64000, 2) \n",
      "\n",
      "RFC | Accuracy : 0.76 | Precision : 0.75 | F1 Score : 0.76 | Time Taken : 0:00:48.424739\n",
      "\n",
      "\n",
      "ETC | Accuracy : 0.77 | Precision : 0.77 | F1 Score : 0.77 | Time Taken : 0:02:02.119984\n",
      "\n",
      "\n",
      "\n",
      "\n",
      "\n",
      "------------------------------------------------------------------- Epoch 22 ------------------------------------------------------------- \n",
      "Shape of training data  : (64000, 2) \n",
      "\n",
      "RFC | Accuracy : 0.76 | Precision : 0.76 | F1 Score : 0.76 | Time Taken : 0:00:50.231973\n",
      "\n",
      "\n",
      "ETC | Accuracy : 0.77 | Precision : 0.77 | F1 Score : 0.77 | Time Taken : 0:02:03.986653\n",
      "\n",
      "\n",
      "\n",
      "\n",
      "\n",
      "------------------------------------------------------------------- Epoch 23 ------------------------------------------------------------- \n",
      "Shape of training data  : (64000, 2) \n",
      "\n",
      "RFC | Accuracy : 0.76 | Precision : 0.75 | F1 Score : 0.76 | Time Taken : 0:00:53.483056\n",
      "\n",
      "\n",
      "ETC | Accuracy : 0.77 | Precision : 0.77 | F1 Score : 0.77 | Time Taken : 0:02:00.077078\n",
      "\n",
      "\n",
      "\n",
      "\n",
      "\n",
      "------------------------------------------------------------------- Epoch 24 ------------------------------------------------------------- \n",
      "Shape of training data  : (64000, 2) \n",
      "\n",
      "RFC | Accuracy : 0.76 | Precision : 0.74 | F1 Score : 0.76 | Time Taken : 0:00:52.357876\n",
      "\n",
      "\n",
      "ETC | Accuracy : 0.77 | Precision : 0.76 | F1 Score : 0.77 | Time Taken : 0:01:58.746658\n",
      "\n",
      "\n",
      "\n",
      "\n",
      "\n",
      "------------------------------------------------------------------- Epoch 25 ------------------------------------------------------------- \n",
      "Shape of training data  : (64000, 2) \n",
      "\n",
      "RFC | Accuracy : 0.76 | Precision : 0.75 | F1 Score : 0.76 | Time Taken : 0:00:52.105104\n",
      "\n",
      "\n",
      "ETC | Accuracy : 0.77 | Precision : 0.77 | F1 Score : 0.77 | Time Taken : 0:02:02.054174\n",
      "\n",
      "\n",
      "\n",
      "\n",
      "\n",
      "------------------------------------------------------------------- Epoch 26 ------------------------------------------------------------- \n",
      "Shape of training data  : (64000, 2) \n",
      "\n",
      "RFC | Accuracy : 0.77 | Precision : 0.75 | F1 Score : 0.77 | Time Taken : 0:00:55.795092\n",
      "\n",
      "\n",
      "ETC | Accuracy : 0.78 | Precision : 0.77 | F1 Score : 0.78 | Time Taken : 0:02:02.835990\n",
      "\n",
      "\n",
      "\n",
      "\n",
      "\n",
      "------------------------------------------------------------------- Epoch 27 ------------------------------------------------------------- \n",
      "Shape of training data  : (64000, 2) \n",
      "\n",
      "RFC | Accuracy : 0.76 | Precision : 0.75 | F1 Score : 0.76 | Time Taken : 0:00:55.404778\n",
      "\n",
      "\n",
      "ETC | Accuracy : 0.77 | Precision : 0.78 | F1 Score : 0.77 | Time Taken : 0:02:06.659609\n",
      "\n",
      "\n",
      "\n",
      "\n",
      "\n",
      "------------------------------------------------------------------- Epoch 28 ------------------------------------------------------------- \n",
      "Shape of training data  : (64000, 2) \n",
      "\n",
      "RFC | Accuracy : 0.76 | Precision : 0.75 | F1 Score : 0.76 | Time Taken : 0:00:52.258119\n",
      "\n",
      "\n",
      "ETC | Accuracy : 0.77 | Precision : 0.77 | F1 Score : 0.77 | Time Taken : 0:02:01.001534\n",
      "\n",
      "\n",
      "\n",
      "\n",
      "\n",
      "------------------------------------------------------------------- Epoch 29 ------------------------------------------------------------- \n",
      "Shape of training data  : (64000, 2) \n",
      "\n",
      "RFC | Accuracy : 0.76 | Precision : 0.75 | F1 Score : 0.76 | Time Taken : 0:00:52.983871\n",
      "\n",
      "\n",
      "ETC | Accuracy : 0.77 | Precision : 0.77 | F1 Score : 0.77 | Time Taken : 0:02:06.341574\n",
      "\n",
      "\n",
      "\n",
      "\n",
      "\n"
     ]
    }
   ],
   "source": [
    "for i in range(30):\n",
    "  df = pd.read_csv('/content/drive/MyDrive/emotion.csv',encoding = 'latin-1',usecols  = ['Target','text']).sample(frac=0.04)\n",
    "  # 0 is Negative , 4/1 is positive\n",
    "  \n",
    "  df['Target'] = df['Target'].replace(4,1)\n",
    "  df['text'] = df['text'].apply(lambda x :  basic_clean(x))\n",
    "  #df.drop(columns = ['text'],inplace=True)\n",
    "  gc.collect()\n",
    "\n",
    "  print('------------------------------------------------------------------- Epoch {} ------------------------------------------------------------- '.format(i))\n",
    "  print('Shape of training data  : {} \\n'.format(df.shape))\n",
    "  \n",
    "  #print(corpus_vector[0:1])\n",
    "  #corpus_vector = tfidf.fit_transform(X).toarray()\n",
    "  X_train,X_test,y_train,y_test = train_test_split(pipe.transform(df['text']).toarray(),df.Target,test_size=0.3,random_state=101)\n",
    "\n",
    "  del df\n",
    "  gc.collect()\n",
    "\n",
    "  accuracy_scores = []\n",
    "  precision_scores = []\n",
    "  f1_scores = []\n",
    "\n",
    "  \n",
    "\n",
    "\n",
    "  \n",
    "  \n",
    "\n",
    "  for name , clf in clfs.items():\n",
    "\n",
    "    start_time = datetime.now() \n",
    "    current_accuracy , current_precision , current_f1_score = train_classifer_incremental(clf,X_train,y_train,X_test,y_test)\n",
    "    end_time = datetime.now()\n",
    "    \n",
    "    print(\"{} | Accuracy : {:.2f} | Precision : {:.2f} | F1 Score : {:.2f} | Time Taken : {}\\n\\n\".format(name ,current_accuracy,current_precision,current_f1_score,end_time - start_time))   \n",
    "  \n",
    "    \n",
    "    accuracy_scores.append(current_accuracy)\n",
    "    precision_scores.append(current_precision)\n",
    "    f1_scores.append(current_f1_score)  \n",
    "\n",
    "  \n",
    "  \n",
    "\n",
    "  print('\\n\\n')\n",
    "\n",
    "  del X_train,X_test,y_train,y_test\n",
    "  gc.collect()\n",
    "\n",
    "  \n",
    "\n",
    "\n",
    "\n"
   ]
  },
  {
   "cell_type": "code",
   "execution_count": 58,
   "id": "SpTmX50SOc0Z",
   "metadata": {
    "id": "SpTmX50SOc0Z"
   },
   "outputs": [],
   "source": [
    "'''\n",
    "Load Pickled classifier\n",
    "pickle.dump(rfc,open('/content/drive/MyDrive/nlp models/rfc.pkl','wb'))\n",
    "pickle.dump(etc,open('/content/drive/MyDrive/nlp models/etc.pkl','wb'))\n",
    "'''"
   ]
  },
  {
   "cell_type": "code",
   "execution_count": 20,
   "id": "kc8yX7M0aoqG",
   "metadata": {
    "colab": {
     "base_uri": "https://localhost:8080/"
    },
    "id": "kc8yX7M0aoqG",
    "outputId": "1f4ffbd1-f6a4-4e5c-9a3d-e48c784db4b3"
   },
   "outputs": [
    {
     "name": "stdout",
     "output_type": "stream",
     "text": [
      "VotingClassifier | Accuracy : 0.77 | Precision : 0.77 | F1 Score : 0.77\n",
      "\n",
      "\n"
     ]
    }
   ],
   "source": [
    "y_pred1 = etc.predict(X_test)\n",
    "print(\"VotingClassifier | Accuracy : {:.2f} | Precision : {:.2f} | F1 Score : {:.2f}\\n\\n\".format(accuracy_score(y_test,y_pred1),precision_score(y_test,y_pred1),f1_score(y_test,y_pred1)))   \n",
    "  \n",
    "classifier_list.append('ETC')\n",
    "accuracy_scores.append(accuracy_score(y_test,y_pred1))\n",
    "precision_scores.append(precision_score(y_test,y_pred1))\n",
    "f1_scores.append(f1_score(y_test,y_pred1))\n",
    "del y_pred1\n",
    "gc.collect()"
   ]
  },
  {
   "cell_type": "code",
   "execution_count": 22,
   "id": "Rr7F4klnbST2",
   "metadata": {
    "colab": {
     "base_uri": "https://localhost:8080/"
    },
    "id": "Rr7F4klnbST2",
    "outputId": "97f1b465-f2f7-4951-9123-341489a60fed"
   },
   "outputs": [
    {
     "name": "stdout",
     "output_type": "stream",
     "text": [
      "Random Forest Classifier | Accuracy : 0.76 | Precision : 0.75 | F1 Score : 0.76\n",
      "\n",
      "\n"
     ]
    },
    {
     "data": {
      "text/plain": [
       "24"
      ]
     },
     "execution_count": 22,
     "metadata": {},
     "output_type": "execute_result"
    }
   ],
   "source": [
    "y_pred1 = rfc.predict(X_test)\n",
    "print(\"Random Forest Classifier | Accuracy : {:.2f} | Precision : {:.2f} | F1 Score : {:.2f}\\n\\n\".format(accuracy_score(y_test,y_pred1),precision_score(y_test,y_pred1),f1_score(y_test,y_pred1)))   \n",
    "  \n",
    "classifier_list.append('RFC')\n",
    "accuracy_scores.append(accuracy_score(y_test,y_pred1))\n",
    "precision_scores.append(precision_score(y_test,y_pred1))\n",
    "f1_scores.append(f1_score(y_test,y_pred1))\n",
    "del y_pred1\n",
    "gc.collect()"
   ]
  },
  {
   "cell_type": "code",
   "execution_count": null,
   "id": "Fa0QZQVMbh7N",
   "metadata": {
    "id": "Fa0QZQVMbh7N"
   },
   "outputs": [],
   "source": []
  },
  {
   "cell_type": "code",
   "execution_count": 23,
   "id": "z7VHygk_I-Xw",
   "metadata": {
    "id": "z7VHygk_I-Xw"
   },
   "outputs": [],
   "source": [
    "performance_batch = pd.DataFrame({\n",
    "    'Algorithm' :  classifier_list ,\n",
    "    'Accuracy' : accuracy_scores ,\n",
    "    'Precision' : precision_scores,\n",
    "    'F1 Scores' : f1_scores\n",
    "}).sort_values(['F1 Scores','Precision','Accuracy'],ascending = False)"
   ]
  },
  {
   "cell_type": "code",
   "execution_count": 24,
   "id": "iDoH9ZVJ-JDk",
   "metadata": {
    "colab": {
     "base_uri": "https://localhost:8080/",
     "height": 363
    },
    "id": "iDoH9ZVJ-JDk",
    "outputId": "66e7c59e-8a93-4e5e-cd07-7bf515421f0d"
   },
   "outputs": [
    {
     "data": {
      "text/html": [
       "\n",
       "  <div id=\"df-e49fdb07-f1dc-470f-bb2b-c58d06fb9da1\">\n",
       "    <div class=\"colab-df-container\">\n",
       "      <div>\n",
       "<style scoped>\n",
       "    .dataframe tbody tr th:only-of-type {\n",
       "        vertical-align: middle;\n",
       "    }\n",
       "\n",
       "    .dataframe tbody tr th {\n",
       "        vertical-align: top;\n",
       "    }\n",
       "\n",
       "    .dataframe thead th {\n",
       "        text-align: right;\n",
       "    }\n",
       "</style>\n",
       "<table border=\"1\" class=\"dataframe\">\n",
       "  <thead>\n",
       "    <tr style=\"text-align: right;\">\n",
       "      <th></th>\n",
       "      <th>Algorithm</th>\n",
       "      <th>Accuracy</th>\n",
       "      <th>Precision</th>\n",
       "      <th>F1 Scores</th>\n",
       "    </tr>\n",
       "  </thead>\n",
       "  <tbody>\n",
       "    <tr>\n",
       "      <th>8</th>\n",
       "      <td>ETC</td>\n",
       "      <td>0.773264</td>\n",
       "      <td>0.772892</td>\n",
       "      <td>0.772569</td>\n",
       "    </tr>\n",
       "    <tr>\n",
       "      <th>3</th>\n",
       "      <td>SGDC</td>\n",
       "      <td>0.765417</td>\n",
       "      <td>0.756776</td>\n",
       "      <td>0.765417</td>\n",
       "    </tr>\n",
       "    <tr>\n",
       "      <th>4</th>\n",
       "      <td>PAC</td>\n",
       "      <td>0.765417</td>\n",
       "      <td>0.756776</td>\n",
       "      <td>0.765417</td>\n",
       "    </tr>\n",
       "    <tr>\n",
       "      <th>9</th>\n",
       "      <td>RFC</td>\n",
       "      <td>0.760208</td>\n",
       "      <td>0.750875</td>\n",
       "      <td>0.763671</td>\n",
       "    </tr>\n",
       "    <tr>\n",
       "      <th>2</th>\n",
       "      <td>Bnb</td>\n",
       "      <td>0.761458</td>\n",
       "      <td>0.753393</td>\n",
       "      <td>0.761458</td>\n",
       "    </tr>\n",
       "    <tr>\n",
       "      <th>7</th>\n",
       "      <td>Stacking</td>\n",
       "      <td>0.754549</td>\n",
       "      <td>0.740836</td>\n",
       "      <td>0.760397</td>\n",
       "    </tr>\n",
       "    <tr>\n",
       "      <th>6</th>\n",
       "      <td>Voting</td>\n",
       "      <td>0.754410</td>\n",
       "      <td>0.741022</td>\n",
       "      <td>0.760099</td>\n",
       "    </tr>\n",
       "    <tr>\n",
       "      <th>0</th>\n",
       "      <td>LRC</td>\n",
       "      <td>0.751510</td>\n",
       "      <td>0.737256</td>\n",
       "      <td>0.751510</td>\n",
       "    </tr>\n",
       "    <tr>\n",
       "      <th>1</th>\n",
       "      <td>Mnb</td>\n",
       "      <td>0.746875</td>\n",
       "      <td>0.747116</td>\n",
       "      <td>0.746875</td>\n",
       "    </tr>\n",
       "    <tr>\n",
       "      <th>5</th>\n",
       "      <td>Perceptron</td>\n",
       "      <td>0.687031</td>\n",
       "      <td>0.634878</td>\n",
       "      <td>0.687031</td>\n",
       "    </tr>\n",
       "  </tbody>\n",
       "</table>\n",
       "</div>\n",
       "      <button class=\"colab-df-convert\" onclick=\"convertToInteractive('df-e49fdb07-f1dc-470f-bb2b-c58d06fb9da1')\"\n",
       "              title=\"Convert this dataframe to an interactive table.\"\n",
       "              style=\"display:none;\">\n",
       "        \n",
       "  <svg xmlns=\"http://www.w3.org/2000/svg\" height=\"24px\"viewBox=\"0 0 24 24\"\n",
       "       width=\"24px\">\n",
       "    <path d=\"M0 0h24v24H0V0z\" fill=\"none\"/>\n",
       "    <path d=\"M18.56 5.44l.94 2.06.94-2.06 2.06-.94-2.06-.94-.94-2.06-.94 2.06-2.06.94zm-11 1L8.5 8.5l.94-2.06 2.06-.94-2.06-.94L8.5 2.5l-.94 2.06-2.06.94zm10 10l.94 2.06.94-2.06 2.06-.94-2.06-.94-.94-2.06-.94 2.06-2.06.94z\"/><path d=\"M17.41 7.96l-1.37-1.37c-.4-.4-.92-.59-1.43-.59-.52 0-1.04.2-1.43.59L10.3 9.45l-7.72 7.72c-.78.78-.78 2.05 0 2.83L4 21.41c.39.39.9.59 1.41.59.51 0 1.02-.2 1.41-.59l7.78-7.78 2.81-2.81c.8-.78.8-2.07 0-2.86zM5.41 20L4 18.59l7.72-7.72 1.47 1.35L5.41 20z\"/>\n",
       "  </svg>\n",
       "      </button>\n",
       "      \n",
       "  <style>\n",
       "    .colab-df-container {\n",
       "      display:flex;\n",
       "      flex-wrap:wrap;\n",
       "      gap: 12px;\n",
       "    }\n",
       "\n",
       "    .colab-df-convert {\n",
       "      background-color: #E8F0FE;\n",
       "      border: none;\n",
       "      border-radius: 50%;\n",
       "      cursor: pointer;\n",
       "      display: none;\n",
       "      fill: #1967D2;\n",
       "      height: 32px;\n",
       "      padding: 0 0 0 0;\n",
       "      width: 32px;\n",
       "    }\n",
       "\n",
       "    .colab-df-convert:hover {\n",
       "      background-color: #E2EBFA;\n",
       "      box-shadow: 0px 1px 2px rgba(60, 64, 67, 0.3), 0px 1px 3px 1px rgba(60, 64, 67, 0.15);\n",
       "      fill: #174EA6;\n",
       "    }\n",
       "\n",
       "    [theme=dark] .colab-df-convert {\n",
       "      background-color: #3B4455;\n",
       "      fill: #D2E3FC;\n",
       "    }\n",
       "\n",
       "    [theme=dark] .colab-df-convert:hover {\n",
       "      background-color: #434B5C;\n",
       "      box-shadow: 0px 1px 3px 1px rgba(0, 0, 0, 0.15);\n",
       "      filter: drop-shadow(0px 1px 2px rgba(0, 0, 0, 0.3));\n",
       "      fill: #FFFFFF;\n",
       "    }\n",
       "  </style>\n",
       "\n",
       "      <script>\n",
       "        const buttonEl =\n",
       "          document.querySelector('#df-e49fdb07-f1dc-470f-bb2b-c58d06fb9da1 button.colab-df-convert');\n",
       "        buttonEl.style.display =\n",
       "          google.colab.kernel.accessAllowed ? 'block' : 'none';\n",
       "\n",
       "        async function convertToInteractive(key) {\n",
       "          const element = document.querySelector('#df-e49fdb07-f1dc-470f-bb2b-c58d06fb9da1');\n",
       "          const dataTable =\n",
       "            await google.colab.kernel.invokeFunction('convertToInteractive',\n",
       "                                                     [key], {});\n",
       "          if (!dataTable) return;\n",
       "\n",
       "          const docLinkHtml = 'Like what you see? Visit the ' +\n",
       "            '<a target=\"_blank\" href=https://colab.research.google.com/notebooks/data_table.ipynb>data table notebook</a>'\n",
       "            + ' to learn more about interactive tables.';\n",
       "          element.innerHTML = '';\n",
       "          dataTable['output_type'] = 'display_data';\n",
       "          await google.colab.output.renderOutput(dataTable, element);\n",
       "          const docLink = document.createElement('div');\n",
       "          docLink.innerHTML = docLinkHtml;\n",
       "          element.appendChild(docLink);\n",
       "        }\n",
       "      </script>\n",
       "    </div>\n",
       "  </div>\n",
       "  "
      ],
      "text/plain": [
       "    Algorithm  Accuracy  Precision  F1 Scores\n",
       "8         ETC  0.773264   0.772892   0.772569\n",
       "3        SGDC  0.765417   0.756776   0.765417\n",
       "4         PAC  0.765417   0.756776   0.765417\n",
       "9         RFC  0.760208   0.750875   0.763671\n",
       "2         Bnb  0.761458   0.753393   0.761458\n",
       "7    Stacking  0.754549   0.740836   0.760397\n",
       "6      Voting  0.754410   0.741022   0.760099\n",
       "0         LRC  0.751510   0.737256   0.751510\n",
       "1         Mnb  0.746875   0.747116   0.746875\n",
       "5  Perceptron  0.687031   0.634878   0.687031"
      ]
     },
     "execution_count": 24,
     "metadata": {},
     "output_type": "execute_result"
    }
   ],
   "source": [
    "performance_batch"
   ]
  },
  {
   "cell_type": "code",
   "execution_count": 25,
   "id": "uMBObw9ND6xK",
   "metadata": {
    "colab": {
     "base_uri": "https://localhost:8080/"
    },
    "id": "uMBObw9ND6xK",
    "outputId": "82de4d8b-35f5-4b75-d42d-6ff702ea2fcd"
   },
   "outputs": [
    {
     "data": {
      "text/plain": [
       "0"
      ]
     },
     "execution_count": 25,
     "metadata": {},
     "output_type": "execute_result"
    }
   ],
   "source": [
    "del X_train,X_test,y_train,y_test\n",
    "gc.collect()"
   ]
  },
  {
   "cell_type": "code",
   "execution_count": null,
   "id": "ZRLxhqoojlLO",
   "metadata": {
    "id": "ZRLxhqoojlLO"
   },
   "outputs": [],
   "source": []
  }
 ],
 "metadata": {
  "colab": {
   "provenance": []
  },
  "gpuClass": "standard",
  "kernelspec": {
   "display_name": "Python 3 (ipykernel)",
   "language": "python",
   "name": "python3"
  },
  "language_info": {
   "codemirror_mode": {
    "name": "ipython",
    "version": 3
   },
   "file_extension": ".py",
   "mimetype": "text/x-python",
   "name": "python",
   "nbconvert_exporter": "python",
   "pygments_lexer": "ipython3",
   "version": "3.10.9"
  }
 },
 "nbformat": 4,
 "nbformat_minor": 5
}
